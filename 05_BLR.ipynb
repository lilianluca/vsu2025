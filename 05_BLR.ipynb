{
 "cells": [
  {
   "cell_type": "markdown",
   "metadata": {},
   "source": [
    "# Logistická regrese\n",
    "\n",
    "Úloha zaměřená na implementaci logistické regrese metodou GD.\n",
    "\n",
    "V případě klasifikace požaduje výstup systému ve smyslu rozhodnutí o příslušnosti k jedné ze dvou definovaných tříd. Přiřadíme datům z jedné třídy požadovanou výstupní hodnotu +1 a datům z druhé třídy 0 (příp. -1)\n",
    "\n",
    "**Nechceme aproximovat body, ale separovat třídy!**\n"
   ]
  },
  {
   "cell_type": "markdown",
   "metadata": {},
   "source": [
    "## Binární lineární klasifikátor pomocí logistické regrese\n",
    "Umí klasifikovat jen třídy separovatelné lineárně (přimkou).\n",
    "\n",
    "### Data\n",
    "\n",
    "Data reprezentují výsledky zkoušky A a B a rozhodnutí o přijetí studenta na VŠ (křížek – neúspěch; hvezdička – úspěch). "
   ]
  },
  {
   "cell_type": "code",
   "execution_count": null,
   "metadata": {},
   "outputs": [],
   "source": [
    "import numpy as np\n",
    "import matplotlib.pyplot as plt\n",
    "import vsu"
   ]
  },
  {
   "cell_type": "code",
   "execution_count": null,
   "metadata": {},
   "outputs": [],
   "source": [
    "def show_loss(iterations, loss):\n",
    "    plt.plot(iterations, loss)\n",
    "    plt.xlabel(\"Iterace\")\n",
    "    plt.ylabel(\"Loss\")\n",
    "    plt.title(\"Průběh trénování\")\n",
    "    plt.show()"
   ]
  },
  {
   "cell_type": "code",
   "execution_count": null,
   "metadata": {},
   "outputs": [],
   "source": [
    "npzfile = np.load('data/data_06_lr.npz')\n",
    "npzfile.files\n"
   ]
  },
  {
   "cell_type": "code",
   "execution_count": null,
   "metadata": {},
   "outputs": [],
   "source": [
    "data = npzfile['data']\n",
    "ref = npzfile['ref']\n",
    "data.shape, ref.shape\n"
   ]
  },
  {
   "cell_type": "code",
   "execution_count": null,
   "metadata": {},
   "outputs": [],
   "source": [
    "vsu.drawSoftmax(data, ref)\n"
   ]
  },
  {
   "cell_type": "markdown",
   "metadata": {},
   "source": [
    "### Opakování z matematiky \n",
    "\n",
    "- Obecný tvar rovnice přimky v prostoru o souřadnicích $x_0$ ... $x_n$ má tvar:\n",
    "    $$ w_0 x_0 + w_1 x_1 + ... + w_n x_n + b = \\sum_{i=0}^{n} w_i x_i + b = w^T x + b = x^T w + b = 0 $$\n",
    "\n",
    "kde $w$ je normalový vektor (kolmý na směr přímky), \n",
    "\n",
    "$b$ je bias,  souvisí s posunem přímky od počátku,\n",
    "\n",
    "$w^T x$ je skalární součin vektorů $w$ a $x$\n",
    "\n",
    "- Bias $b$ taky můžeme označit jako $w_{n+1}$, pak platí:\n",
    "$$ w_0 x_0 + w_1 x_1 + ... + w_n x_n + w_{n+1} = \\sum_{i=0}^{n} w_i \\tilde{x_i} = w^T \\tilde{x} = \\tilde{x}^T w = 0 $$\n",
    "\n",
    "kde $\\tilde{x}$ je $x$ rozšířená o jeden sloupec s hodnotami 1, např. pro 2D:\n",
    "\n",
    "$$\n",
    "    x = \n",
    "        \\begin{bmatrix}\n",
    "        x_0 & x_1 \\\\\n",
    "        \\end{bmatrix} \n",
    "    \\implies\n",
    "        \\tilde{x} = \n",
    "        \\begin{bmatrix}\n",
    "        x_0 & x_1 & 1 \\\\\n",
    "        \\end{bmatrix} \n",
    "$$\n",
    "\n",
    "- Poloha bodu vůči přímce ve 2D:\n",
    "Orientovaná vzdálenost $d$ bodu $x$ od přímky s parametry $w$:\n",
    "$$ d = \\frac{w_0 x_0 + w_1 x_1 + b}{ \\sqrt{w_0^2 + w_1^2}} $$\n",
    "\n",
    "Bod $x$ leží ve vzdálenosti $d$:\n",
    "- ve směru vektoru $w$ (nad přímkou): $d > 0$, tedy $w^T x + b > 0$\n",
    "- proti směru vektoru $w$ (pod přímkou): $d < 0$, tedy $w^T x + b < 0$\n",
    "- přímo na přímce: $d = 0$, tedy $w^T x + b = 0$\n",
    "\n",
    "\n",
    "\n",
    "### Sigmoida\n",
    "$$ sigmoid(u) = \\sigma (u) = \\frac{e^u}{1+e^u} = \\frac{1}{1+e^{-u}} $$\n",
    "\n",
    "kde $u = w^T \\tilde{x}$\n",
    "\n",
    "\n",
    "Vlastnosti:\n",
    "- definiční obor: ($-\\infty$, $+\\infty$)\n",
    "- obor hodnot: (0,1)\n",
    "- $ \\sigma (u) > 0.5 $ pro $u>0$, $ \\sigma (u) < 0.5 $ pro $u<0$\n",
    "\n",
    "\n",
    "- Pokud je hodnota na výstupu sigmoidy $\\geq$ 0.5, přiřadíme bod ke třídě 1.\n",
    "- Pokud je hodnota na výstupu sigmoidy < 0.5, přiřadíme bod ke třídě 0.\n",
    "\n",
    "\n",
    "### Výpočet $\\theta$\n",
    "\n",
    "#### Pomocí sumy:\n",
    "\n",
    "$$ \\theta_{t+1} = \\theta_{t} - \\alpha \\sum_{i=0}^{N} {x_i} (\\sigma(x_i^T \\theta_t) - y_i) $$\n",
    "kde $\\alpha$ je velikost kroku (learning rate), $y_i \\in {0,1}$\n",
    "\n",
    "\n",
    "#### Pomocí  matice:\n",
    "Maticová implementace je řádově výpočetně efektivnější bez použití cyklu for.\n",
    "\n",
    "$$ \\theta_{t+1} = \\theta_{t} - \\alpha X^T (\\sigma(X \\theta_t) - y) $$\n",
    "matice $X$ obsahuje v káždém sloupci jeden rozšířený vektor $x_i$\n",
    "\n",
    "\n",
    "#### Výpočet $\\theta$ s funkcionalitou pro regularizaci:\n",
    "$$ \\theta_{t+1} = \\theta_{t}(1 - \\alpha \\lambda) - \\alpha \\sum_{i=0}^{N} {x_i} (\\sigma(x_i^T \\theta_t) - y_i) $$\n",
    "\n",
    "nebo\n",
    "$$ \\theta_{t+1} = \\theta_{t} (1 - \\alpha \\lambda) - \\alpha X^T (\\sigma(X \\theta_t) - y) $$\n",
    "\n",
    "\n",
    "\n",
    "#### Postup:\n",
    "1. Parametr $\\theta$ (resp. váhy $w$ a bias $b$) se inicializuje na malé náhodné hodnoty nebo na nuly\n",
    "2. Na vstup se přivedou všechna trénovací data a na výstupu se tím pádem objeví posloupnost nul a jedniček (obsahuje chyby)\n",
    "3. Na základě chyb se upraví hodnoty vah\n",
    "4. Kroky 2. a 3. se postupně opakují, dokud dostatečně klesá chybovost klasifikátoru (nebo podle počtu iterací)\n"
   ]
  },
  {
   "cell_type": "code",
   "execution_count": null,
   "metadata": {},
   "outputs": [],
   "source": [
    "def sigmoid(z):\n",
    "    \"\"\"\n",
    "    vstupem muze byt skalar, vektor, nebo matice \n",
    "    \"\"\"\n",
    "    \n",
    "    #################################################################\n",
    "    # ZDE DOPLNIT\n",
    "\n",
    "    return ...\n",
    "\n",
    "    #################################################################\n",
    "\n",
    "vsu.checkSigmoid(sigmoid) #kontrola vystupu, output musi byt True"
   ]
  },
  {
   "cell_type": "code",
   "execution_count": null,
   "metadata": {},
   "outputs": [],
   "source": [
    "def thetaGD(data, classes, alpha=0.001, iterations=10000, lmbd=0, plot_loss=False):\n",
    "    \"\"\"\n",
    "    alpha = learning rate\n",
    "    plot_loss - zobraz graf zavislosti lossu na iteraci\n",
    "    \"\"\"\n",
    "\n",
    "    # pro kazdou iteraci vypoctete loss a zapiste ho na odpovidajici index v promenne\n",
    "    # (jak ovlivní regularizace výpočet lossu?)\n",
    "    loss = np.zeros(iterations)\n",
    "\n",
    "    #################################################################\n",
    "    # ZDE DOPLNIT\n",
    "    \n",
    "    theta = ...\n",
    "        \n",
    "    #################################################################\n",
    "\n",
    "    if plot_loss:\n",
    "        show_loss(np.arange(iterations), loss)\n",
    "\n",
    "    return theta\n"
   ]
  },
  {
   "cell_type": "code",
   "execution_count": null,
   "metadata": {},
   "outputs": [],
   "source": [
    "theta = thetaGD(data,ref,alpha=0.001,iterations=10000, plot_loss=True)\n",
    "\n",
    "theta"
   ]
  },
  {
   "cell_type": "raw",
   "metadata": {},
   "source": [
    "Pro kontrolu:\n",
    "array([[-15.32914513],\n",
    "       [  1.27729209],\n",
    "       [  1.21940235]])"
   ]
  },
  {
   "cell_type": "code",
   "execution_count": null,
   "metadata": {},
   "outputs": [],
   "source": [
    "vsu.drawSigmoid(data, ref, theta, sigmoid)\n",
    "vsu.drawSigmoidShape(sigmoid, title=\"Sigmoid\")\n"
   ]
  },
  {
   "cell_type": "code",
   "execution_count": null,
   "metadata": {},
   "outputs": [],
   "source": [
    "def predict(x, theta):\n",
    "    #určí pro libovolnou kombinaci vstupu theta a X výsledné přiřazení ke třídě \n",
    "    #(p < 0.5, třída 0; p >= 0.5, třída 1),\n",
    "    \n",
    "    #################################################################\n",
    "    # ZDE DOPLNIT\n",
    "    \n",
    "    p = ...\n",
    "    \n",
    "    #################################################################\n",
    "\n",
    "    return p\n"
   ]
  },
  {
   "cell_type": "markdown",
   "metadata": {},
   "source": [
    "Rozhodněte o přijetí v případě zisku 6 a 4 bodů a nastavení parametrů: alpha = 0.001,lambda = 0.2, počet iterací = 10000:"
   ]
  },
  {
   "cell_type": "code",
   "execution_count": null,
   "metadata": {},
   "outputs": [],
   "source": [
    "#################################################################\n",
    "# ZDE DOPLNIT\n",
    "\n",
    "...\n",
    "\n",
    "#################################################################\n"
   ]
  }
 ],
 "metadata": {
  "kernelspec": {
   "display_name": "2509_vsu",
   "language": "python",
   "name": "python3"
  },
  "language_info": {
   "codemirror_mode": {
    "name": "ipython",
    "version": 3
   },
   "file_extension": ".py",
   "mimetype": "text/x-python",
   "name": "python",
   "nbconvert_exporter": "python",
   "pygments_lexer": "ipython3",
   "version": "3.11.13"
  }
 },
 "nbformat": 4,
 "nbformat_minor": 4
}
