{
 "cells": [
  {
   "cell_type": "markdown",
   "metadata": {},
   "source": [
    "# Lineární regrese\n",
    "\n",
    "Úloha zaměřená na implementaci lineární regrese pomocí metody GD.\n",
    "\n",
    "Data reprezentují výsledky zkoušky, konkrétně bodový zisk v závislosti na době studia."
   ]
  },
  {
   "cell_type": "code",
   "execution_count": null,
   "metadata": {},
   "outputs": [],
   "source": [
    "import numpy as np\n",
    "import usu\n",
    "import matplotlib.pyplot as plt\n"
   ]
  },
  {
   "cell_type": "code",
   "execution_count": null,
   "metadata": {},
   "outputs": [],
   "source": [
    "def show_loss(iterations, loss):\n",
    "    plt.plot(iterations, loss)\n",
    "    plt.xlabel(\"Iterace\")\n",
    "    plt.ylabel(\"Loss\")\n",
    "    plt.title(\"Průběh trénování\")\n",
    "    plt.show()"
   ]
  },
  {
   "cell_type": "markdown",
   "metadata": {},
   "source": [
    "## Data\n"
   ]
  },
  {
   "cell_type": "code",
   "execution_count": null,
   "metadata": {},
   "outputs": [],
   "source": [
    "npzfile = np.load('data/data_03.npz')\n",
    "npzfile.files\n"
   ]
  },
  {
   "cell_type": "code",
   "execution_count": null,
   "metadata": {},
   "outputs": [],
   "source": [
    "x = npzfile['x0']\n",
    "y = npzfile['x1']\n",
    "usu.draw(x, y, \"Vysledky zkousky\", \"Doba studia [hod]\", \"Vysledek [body]\")\n"
   ]
  },
  {
   "cell_type": "code",
   "execution_count": null,
   "metadata": {},
   "outputs": [],
   "source": [
    "x.shape, y.shape # 100 radku a 1 sloupec\n"
   ]
  },
  {
   "cell_type": "markdown",
   "metadata": {},
   "source": [
    "## GD (Gradient descent)\n",
    "\n",
    "### Výpočet $\\theta$:\n",
    "\n",
    "#### Pomocí sumy:\n",
    "\n",
    "$$ \\theta_{i+1} = \\theta_{i} - \\alpha \\sum_{n=0}^{N} \\tilde{X_n} (\\theta_i^T \\tilde{X_n} - y_n) $$\n",
    "\n",
    "kde $\\alpha$ je velikost kroku, $n$ odpovídá jednotlivým řádkům vstupních matic.\n",
    "\n",
    "\n",
    "**Příklad výpočtu první iterace:**\n",
    "\n",
    "$$ \\tilde{X} = \\begin{bmatrix}\n",
    "        1 & 1 \\\\\n",
    "        1 & 2 \\\\\n",
    "        1 & 3 \\\\\n",
    "        \\end{bmatrix} ,\n",
    "     y =  \\begin{bmatrix}\n",
    "     15 \\\\\n",
    "     20 \\\\\n",
    "     30 \\\\\n",
    "    \\end{bmatrix},\n",
    "    \\theta_0 = \\begin{bmatrix}\n",
    "        0 \\\\\n",
    "        0 \\\\\n",
    "        \\end{bmatrix},\n",
    "        \\alpha = 0.1$$\n",
    "        \n",
    "$$ \n",
    "\\theta_1 = \\begin{bmatrix}\n",
    "        0 \\\\\n",
    "        0 \\\\\n",
    "        \\end{bmatrix} - 0.1 \\left[  (\\begin{bmatrix} 0 & 0 \\\\ \\end{bmatrix} \\begin{bmatrix} 1 \\\\ 1 \\\\ \\end{bmatrix} - 15)\\begin{bmatrix} 1 \\\\ 1 \\\\ \\end{bmatrix}) + (\\begin{bmatrix} 0 & 0 \\\\ \\end{bmatrix} \\begin{bmatrix} 1 \\\\ 2 \\\\ \\end{bmatrix} - 20)\\begin{bmatrix} 1 \\\\ 2 \\\\ \\end{bmatrix}) + (\\begin{bmatrix} 0 & 0 \\\\ \\end{bmatrix} \\begin{bmatrix} 1 \\\\ 3 \\\\ \\end{bmatrix} - 30)\\begin{bmatrix} 1 \\\\ 3 \\\\ \\end{bmatrix}) \\right] = \\begin{bmatrix} 6.5 \\\\ 14.5 \\\\ \\end{bmatrix}\n",
    "$$\n",
    "\n",
    " \n",
    "#### Pomocí  matice:\n",
    "Maticová implementace je řádově výpočetně efektivnější.\n",
    "\n",
    "$$ \\theta_{i+1} = \\theta_{i} - \\alpha \\tilde{X^T} (\\tilde{X} \\theta_i - y) $$\n",
    "\n",
    "\n",
    "**Poznámka:** Rovnice jsou stejné pro ruzné řády polynomů.\n",
    "\n",
    "\n",
    "### Výpočet $\\theta$ se zahrnutím regularizace:\n",
    "\n",
    "$$ \\theta_{i+1} = \\theta_{i}(1-\\alpha \\lambda) - \\alpha  \\tilde{X^T} (\\tilde{X} \\theta_i - y) $$\n"
   ]
  },
  {
   "cell_type": "code",
   "execution_count": null,
   "metadata": {},
   "outputs": [],
   "source": [
    "def computeThetaGD(x, y, alpha=0.1, nIter=100, order=1, lmbd=0, plot_loss=False):\n",
    "    \"\"\"\n",
    "    x - vektor vstupnich hodnot, doba studia\n",
    "    y - vektor vystupnich  hodnot, zisk bodu\n",
    "    alpha - krok\n",
    "    nIter - pocet iteraci\n",
    "    order - rad polynomu\n",
    "    lmbd - regularizacni parametr lambda\n",
    "    plot_loss - zobraz graf zavislosti lossu na iteraci\n",
    "    \"\"\"\n",
    "\n",
    "    # pro kazdou iteraci vypoctete loss a zapiste ho na odpovidajici index v promenne\n",
    "    loss = np.zeros(nIter)\n",
    "\n",
    "    #################################################################\n",
    "    # ZDE DOPLNIT\n",
    "    \n",
    "    ...\n",
    "    \n",
    "    #################################################################\n",
    "\n",
    "    if plot_loss:\n",
    "        show_loss(np.arange(nIter), loss)\n",
    "\n",
    "    return theta\n"
   ]
  },
  {
   "cell_type": "markdown",
   "metadata": {},
   "source": [
    "Kontrola výpočtu na malém množství dat:"
   ]
  },
  {
   "cell_type": "code",
   "execution_count": null,
   "metadata": {
    "scrolled": true
   },
   "outputs": [],
   "source": [
    "a = np.array([1, 2, 3], ndmin=2).T\n",
    "b = np.array([15, 20, 30], ndmin=2).T\n",
    "theta = computeThetaGD(a, b, nIter=1)\n",
    "print(theta)\n",
    "#usu.draw(a, b, \"Výsledky zkousky\", \"Doba studia[hod]\", \"Výsledek [body]\", theta)\n"
   ]
  },
  {
   "cell_type": "raw",
   "metadata": {},
   "source": [
    "Správný výsledek pro kontrolu:\n",
    "[[ 6.5]\n",
    " [14.5]]"
   ]
  },
  {
   "cell_type": "markdown",
   "metadata": {},
   "source": [
    "Určete zisk bodů v případě přípravy v délce 6 hodin. Všimněte si, jak silně $\\alpha$ ovlivňuje výsledky:"
   ]
  },
  {
   "cell_type": "code",
   "execution_count": null,
   "metadata": {},
   "outputs": [],
   "source": [
    "alpha = 0.0001\n",
    "iterations = 1500\n",
    "theta = computeThetaGD(x, y, alpha, iterations, plot_loss=True)\n",
    "\n",
    "#################################################################\n",
    "# ZDE DOPLNIT\n",
    "#valueY a valueX musi byt typu float\n",
    "\n",
    "valueX = ...\n",
    "valueY = ...\n",
    "\n",
    "# Nejvhodnejsi rad polynomu a proc: ...\n",
    "\n",
    "#################################################################\n",
    "\n",
    "usu.draw(x, y, \"Výsledky zkousky\", \"Doba studia[hod]\", \"Výsledek [body]\", theta, valueX, valueY)\n"
   ]
  },
  {
   "cell_type": "markdown",
   "metadata": {},
   "source": [
    "Určete dobu studia v případě zisku 10 bodů:\n"
   ]
  },
  {
   "cell_type": "code",
   "execution_count": null,
   "metadata": {},
   "outputs": [],
   "source": [
    "alpha = 0.001\n",
    "iterations = 100\n",
    "\n",
    "theta = computeThetaGD(x, y, alpha, iterations)\n",
    "#print(theta)\n",
    "\n",
    "#################################################################\n",
    "# ZDE DOPLNIT\n",
    "#valueY a valueX musi byt cisla!\n",
    "\n",
    "valueY = ...\n",
    "valueX = ...\n",
    "\n",
    "#################################################################\n",
    "\n",
    "usu.draw(x, y, \"Výsledky zkousky\", \"Doba studia[hod]\", \"Výsledek [body]\", theta, valueX, valueY)\n"
   ]
  },
  {
   "cell_type": "markdown",
   "metadata": {},
   "source": [
    "Určete zisk bodů v případě přípravy v délce 4 hodin, řádu polynomu 2, $\\lambda$ = 1, $\\alpha$ = \n",
    "0.00001 a počtu iterací 15000:"
   ]
  },
  {
   "cell_type": "code",
   "execution_count": null,
   "metadata": {},
   "outputs": [],
   "source": [
    "order = 2\n",
    "lmbd = 1\n",
    "alpha = 0.00001\n",
    "iterations = 15000\n",
    "\n",
    "theta = computeThetaGD(x, y, alpha, iterations, order, lmbd)\n",
    "#print(theta)\n",
    "\n",
    "#################################################################\n",
    "# ZDE DOPLNIT\n",
    "#valueY a valueX musi byt cisla!\n",
    "\n",
    "valueX = ...\n",
    "valueY = ...\n",
    "\n",
    "#################################################################\n",
    "\n",
    "usu.draw(x, y, \"Výsledky zkousky\", \"Doba studia[hod]\", \"Výsledek [body]\", theta, valueX, valueY)\n"
   ]
  },
  {
   "cell_type": "markdown",
   "metadata": {},
   "source": [
    "### Závěr:\n",
    "rozhodněte, kdy je vhodnější použít pro nalezení parametrů $\\theta$ metodu LSE a kdy GD:\n"
   ]
  },
  {
   "cell_type": "markdown",
   "metadata": {},
   "source": [
    "## ADAM (bonus)\n",
    "\n",
    "Odkaz na  článek: https://arxiv.org/pdf/1412.6980"
   ]
  },
  {
   "cell_type": "code",
   "execution_count": null,
   "metadata": {},
   "outputs": [],
   "source": [
    "def computeThetaADAM(x, y, alpha=0.1, beta1=0.9, beta2=0.999, epsilon=1e-8, nIter=100, order=1, lmbd=0, plot_loss=False):\n",
    "    \"\"\"\n",
    "    x - vektor vstupnich hodnot, doba studia\n",
    "    y - vektor vystupnich  hodnot, zisk bodu\n",
    "    alpha - krok\n",
    "    beta1 - mira utlumu odhadu prvniho momentu\n",
    "    beta2 - mira utlumu odhadu druheho momentu\n",
    "    epsilon - mala konstanta pro numerickou stabilitu\n",
    "    nIter - pocet iteraci\n",
    "    order - rad polynomu\n",
    "    lmbd - regularizacni parametr lambda\n",
    "    plot_loss - zobraz graf zavislosti lossu na iteraci\n",
    "    \"\"\"\n",
    "\n",
    "    # pro kazdou iteraci vypoctete loss a zapiste ho na odpovidajici index v promenne\n",
    "    loss = np.zeros(nIter)\n",
    "\n",
    "    #################################################################\n",
    "    # ZDE DOPLNIT\n",
    "    \n",
    "    ...\n",
    "    \n",
    "    #################################################################\n",
    "\n",
    "    if plot_loss:\n",
    "        show_loss(np.arange(nIter), loss)\n",
    "\n",
    "    return theta\n"
   ]
  },
  {
   "cell_type": "code",
   "execution_count": null,
   "metadata": {},
   "outputs": [],
   "source": [
    "a = np.array([1, 2, 3], ndmin=2).T\n",
    "b = np.array([15, 20, 30], ndmin=2).T\n",
    "theta = computeThetaADAM(a, b, nIter=100)\n",
    "print(theta)\n",
    "#usu.draw(a, b, \"Výsledky zkousky\", \"Doba studia[hod]\", \"Výsledek [body]\", theta)\n"
   ]
  },
  {
   "cell_type": "raw",
   "metadata": {
    "vscode": {
     "languageId": "raw"
    }
   },
   "source": [
    "Správný výsledek pro kontrolu:\n",
    "[[6.66729172]\n",
    " [6.68945605]]"
   ]
  },
  {
   "cell_type": "markdown",
   "metadata": {},
   "source": [
    "Určete zisk bodů v případě přípravy v délce 6 hodin. Všimněte si, jak silně $\\alpha$ ovlivňuje výsledky.\n",
    "\n",
    "Výhody metody ADAM se typicky projevují až na složitějších datasetech."
   ]
  },
  {
   "cell_type": "code",
   "execution_count": null,
   "metadata": {},
   "outputs": [],
   "source": [
    "alpha = 0.01\n",
    "iterations = 1000\n",
    "order = 2\n",
    "lmbd = 1\n",
    "theta = computeThetaADAM(x, y, alpha=alpha, nIter=iterations, order=order, lmbd=lmbd, plot_loss=True)\n",
    "\n",
    "#################################################################\n",
    "# ZDE DOPLNIT\n",
    "#valueY a valueX musi byt typu float\n",
    "\n",
    "valueX = ...\n",
    "valueY = ...\n",
    "\n",
    "#################################################################\n",
    "\n",
    "usu.draw(x, y, \"Výsledky zkousky\", \"Doba studia[hod]\", \"Výsledek [body]\", theta, valueX, valueY)\n"
   ]
  }
 ],
 "metadata": {
  "kernelspec": {
   "display_name": "Python 3 (ipykernel)",
   "language": "python",
   "name": "python3"
  },
  "language_info": {
   "codemirror_mode": {
    "name": "ipython",
    "version": 3
   },
   "file_extension": ".py",
   "mimetype": "text/x-python",
   "name": "python",
   "nbconvert_exporter": "python",
   "pygments_lexer": "ipython3",
   "version": "3.10.18"
  }
 },
 "nbformat": 4,
 "nbformat_minor": 4
}
