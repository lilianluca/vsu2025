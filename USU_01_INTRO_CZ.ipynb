{
 "cells": [
  {
   "cell_type": "markdown",
   "id": "4ad7b57d",
   "metadata": {},
   "source": [
    "# Procvičení práce s Numpy"
   ]
  },
  {
   "cell_type": "code",
   "execution_count": 1,
   "id": "41e8ae20",
   "metadata": {
    "scrolled": true
   },
   "outputs": [
    {
     "data": {
      "text/plain": [
       "array([[1, 2, 3],\n",
       "       [4, 5, 6],\n",
       "       [7, 8, 9]])"
      ]
     },
     "execution_count": 1,
     "metadata": {},
     "output_type": "execute_result"
    }
   ],
   "source": [
    "import numpy as np\n",
    "A = np.array ([[1,2,3],[4,5,6],[7,8,9]])\n",
    "A"
   ]
  },
  {
   "cell_type": "markdown",
   "id": "e11d573e",
   "metadata": {},
   "source": [
    "### Vytvořte matici B danou prvkovým součinem matice A s maticí A\n"
   ]
  },
  {
   "cell_type": "code",
   "execution_count": 2,
   "id": "4e669e25",
   "metadata": {
    "scrolled": true
   },
   "outputs": [
    {
     "name": "stdout",
     "output_type": "stream",
     "text": [
      "Ellipsis\n"
     ]
    }
   ],
   "source": [
    "B = ...\n",
    "print(B)"
   ]
  },
  {
   "cell_type": "raw",
   "id": "266ab815",
   "metadata": {},
   "source": [
    "B = [[ 1,  4,  9],\n",
    "    [16, 25, 36],\n",
    "    [49, 64, 81]]\n",
    "\n",
    "Zkuste matici A vytvořit pomocí příkazu A = np.matrix([[1,2,3],[4,5,6],[7,8,9]]). Co se změní?\n",
    "\n",
    "Numpy matrices are strictly 2-dimensional, while numpy arrays (ndarrays) are N-dimensional. Matrix objects are a subclass of ndarray, so they inherit all the attributes and methods of ndarrays.\n",
    "\n",
    "The main advantage of numpy matrices is that they provide a convenient notation for matrix multiplication: if a and b are matrices, then a*b is their matrix product."
   ]
  },
  {
   "cell_type": "markdown",
   "id": "9429bba7",
   "metadata": {},
   "source": [
    "### Vytvořte matici C danou součinem matic A s maticí A\n"
   ]
  },
  {
   "cell_type": "code",
   "execution_count": 3,
   "id": "83012eb4",
   "metadata": {
    "scrolled": true
   },
   "outputs": [
    {
     "data": {
      "text/plain": [
       "Ellipsis"
      ]
     },
     "execution_count": 3,
     "metadata": {},
     "output_type": "execute_result"
    }
   ],
   "source": [
    "C = ...\n",
    "C"
   ]
  },
  {
   "cell_type": "raw",
   "id": "c02108b2",
   "metadata": {},
   "source": [
    "C =    [[ 30,  36,  42],\n",
    "       [ 66,  81,  96],\n",
    "       [102, 126, 150]]\n",
    "        \n",
    "Najděte si, jakými dalšími způsoby lze zapsat násobení matic."
   ]
  },
  {
   "cell_type": "markdown",
   "id": "535b207c",
   "metadata": {},
   "source": [
    "### Vytvořte matici D jako inverzní matici k matici D1\n"
   ]
  },
  {
   "cell_type": "code",
   "execution_count": 4,
   "id": "9d4bd7c7",
   "metadata": {
    "scrolled": true
   },
   "outputs": [
    {
     "data": {
      "text/plain": [
       "Ellipsis"
      ]
     },
     "execution_count": 4,
     "metadata": {},
     "output_type": "execute_result"
    }
   ],
   "source": [
    "D1 = np.array([[1,2],[4,3]])\n",
    "D = ...\n",
    "D"
   ]
  },
  {
   "cell_type": "raw",
   "id": "4afa4354",
   "metadata": {},
   "source": [
    "D = [[-0.6,  0.4],\n",
    "     [ 0.8, -0.2]])       "
   ]
  },
  {
   "cell_type": "markdown",
   "id": "669ca363",
   "metadata": {},
   "source": [
    "### Pomocí dvou příkazů np.append() rozšiřte matici A o jeden řádek obsahující čísla 4 a poté o jeden sloupec obsahující čísla 5"
   ]
  },
  {
   "cell_type": "code",
   "execution_count": 5,
   "id": "4c4ccccd",
   "metadata": {},
   "outputs": [
    {
     "name": "stdout",
     "output_type": "stream",
     "text": [
      "Ellipsis\n",
      "Ellipsis\n"
     ]
    }
   ],
   "source": [
    "A1 = ...\n",
    "A2 = ...\n",
    "print(A1) \n",
    "print(A2)"
   ]
  },
  {
   "cell_type": "raw",
   "id": "406e771f",
   "metadata": {},
   "source": [
    "A1 = [[1 2 3]\n",
    "     [4 5 6]\n",
    "     [7 8 9]\n",
    "     [4 4 4]]\n",
    "A2 = [[1 2 3 5]\n",
    "     [4 5 6 5]\n",
    "     [7 8 9 5]]"
   ]
  },
  {
   "cell_type": "markdown",
   "id": "22082d36",
   "metadata": {},
   "source": [
    "### Stejné cvičení proveďte pomocí příkazů np.insert()"
   ]
  },
  {
   "cell_type": "code",
   "execution_count": 6,
   "id": "0cdc7602",
   "metadata": {
    "scrolled": false
   },
   "outputs": [
    {
     "name": "stdout",
     "output_type": "stream",
     "text": [
      "Ellipsis\n",
      "Ellipsis\n"
     ]
    }
   ],
   "source": [
    "A3 = ...\n",
    "A4 = ...\n",
    "print(A3) \n",
    "print(A4)\n"
   ]
  },
  {
   "cell_type": "raw",
   "id": "1bae44b7",
   "metadata": {},
   "source": [
    "A3 = [[1 2 3]\n",
    "     [4 5 6]\n",
    "     [7 8 9]\n",
    "     [4 4 4]]\n",
    "A4 = [[1 2 3 5]\n",
    "     [4 5 6 5]\n",
    "     [7 8 9 5]]"
   ]
  },
  {
   "cell_type": "markdown",
   "id": "7d19d9f6",
   "metadata": {},
   "source": [
    "### Rozšiřte matici A o jeden sloupec obsahující čísla 5 pomocí np.c_"
   ]
  },
  {
   "cell_type": "code",
   "execution_count": 7,
   "id": "a5693b9f",
   "metadata": {
    "scrolled": true
   },
   "outputs": [
    {
     "name": "stdout",
     "output_type": "stream",
     "text": [
      "Ellipsis\n"
     ]
    }
   ],
   "source": [
    "A5 = ...\n",
    "print(A5) "
   ]
  },
  {
   "cell_type": "raw",
   "id": "0c58ef3b",
   "metadata": {},
   "source": [
    "A5 = [[1 2 3 5]\n",
    "     [4 5 6 5]\n",
    "     [7 8 9 5]]"
   ]
  },
  {
   "cell_type": "markdown",
   "id": "b875461c",
   "metadata": {},
   "source": [
    "### Pomocí cyklu for a np.c_ vytvořte matici X, která bude mít devět sloupců a v každém i-tém sloupci bude obsahovat i-tou mocninu vektoru x"
   ]
  },
  {
   "cell_type": "code",
   "execution_count": 8,
   "id": "72429e3b",
   "metadata": {
    "scrolled": false
   },
   "outputs": [
    {
     "ename": "SyntaxError",
     "evalue": "cannot assign to Ellipsis (1084915054.py, line 8)",
     "output_type": "error",
     "traceback": [
      "\u001b[1;36m  Input \u001b[1;32mIn [8]\u001b[1;36m\u001b[0m\n\u001b[1;33m    for ...:\u001b[0m\n\u001b[1;37m        ^\u001b[0m\n\u001b[1;31mSyntaxError\u001b[0m\u001b[1;31m:\u001b[0m cannot assign to Ellipsis\n"
     ]
    }
   ],
   "source": [
    "x = np.array([[1],[2],[3]])\n",
    "print(x) \n",
    "# inicializace X\n",
    "X = np.ones(np.shape(x),dtype=int)\n",
    "print(X) \n",
    "\n",
    "# doplnte cyklus for\n",
    "for ...:\n",
    " ...\n",
    "print(X)\n",
    "print(np.shape(X))"
   ]
  },
  {
   "cell_type": "raw",
   "id": "2ab6594e",
   "metadata": {},
   "source": [
    "X= [[   1    1    1    1    1    1    1    1    1]\n",
    "    [   1    2    4    8   16   32   64  128  256]\n",
    "    [   1    3    9   27   81  243  729 2187 6561]]"
   ]
  },
  {
   "cell_type": "markdown",
   "id": "951b6609",
   "metadata": {},
   "source": [
    "### Vytvořte vektor prvků X1 obsahující prvky v matici X, které jsou větší než 100"
   ]
  },
  {
   "cell_type": "code",
   "execution_count": null,
   "id": "0a219074",
   "metadata": {
    "scrolled": true
   },
   "outputs": [],
   "source": [
    "X1 = ...\n",
    "X1"
   ]
  },
  {
   "cell_type": "raw",
   "id": "ca111d4f",
   "metadata": {},
   "source": [
    "X1 = [ 128,  256,  243,  729, 2187, 6561]"
   ]
  },
  {
   "cell_type": "markdown",
   "id": "9122f8f8",
   "metadata": {},
   "source": [
    "### Vytvořte matici X2 obsahující pozice prvků v matici X, které jsou větší než 100"
   ]
  },
  {
   "cell_type": "code",
   "execution_count": null,
   "id": "43ae5e42",
   "metadata": {
    "scrolled": false
   },
   "outputs": [],
   "source": [
    "X2 = ...\n",
    "X2"
   ]
  },
  {
   "cell_type": "raw",
   "id": "84f7e895",
   "metadata": {},
   "source": [
    "X2 = ([[1, 7],\n",
    "       [1, 8],\n",
    "       [2, 5],\n",
    "       [2, 6],\n",
    "       [2, 7],\n",
    "       [2, 8]], dtype=int64)"
   ]
  }
 ],
 "metadata": {
  "kernelspec": {
   "display_name": "Python 3 (ipykernel)",
   "language": "python",
   "name": "python3"
  },
  "language_info": {
   "codemirror_mode": {
    "name": "ipython",
    "version": 3
   },
   "file_extension": ".py",
   "mimetype": "text/x-python",
   "name": "python",
   "nbconvert_exporter": "python",
   "pygments_lexer": "ipython3",
   "version": "3.9.7"
  }
 },
 "nbformat": 4,
 "nbformat_minor": 5
}
